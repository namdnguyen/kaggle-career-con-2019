{
 "cells": [
  {
   "cell_type": "markdown",
   "metadata": {},
   "source": [
    "# Kaggle CareerCon 2019 Training Data EDA\n",
    "Nam D. Nguyen\n",
    "\n",
    "[CareerCon 2019 Competition Page](https://www.kaggle.com/c/career-con-2019)"
   ]
  },
  {
   "cell_type": "markdown",
   "metadata": {},
   "source": [
    "## Import Libraries"
   ]
  },
  {
   "cell_type": "code",
   "execution_count": 5,
   "metadata": {},
   "outputs": [
    {
     "data": {
      "text/html": [
       "<script type=\"text/javascript\">window.PlotlyConfig = {MathJaxConfig: 'local'};</script><script type=\"text/javascript\">if (window.MathJax) {MathJax.Hub.Config({SVG: {font: \"STIX-Web\"}});}</script><script>requirejs.config({paths: { 'plotly': ['https://cdn.plot.ly/plotly-latest.min']},});if(!window._Plotly) {require(['plotly'],function(plotly) {window._Plotly=plotly;});}</script>"
      ],
      "text/vnd.plotly.v1+html": [
       "<script type=\"text/javascript\">window.PlotlyConfig = {MathJaxConfig: 'local'};</script><script type=\"text/javascript\">if (window.MathJax) {MathJax.Hub.Config({SVG: {font: \"STIX-Web\"}});}</script><script>requirejs.config({paths: { 'plotly': ['https://cdn.plot.ly/plotly-latest.min']},});if(!window._Plotly) {require(['plotly'],function(plotly) {window._Plotly=plotly;});}</script>"
      ]
     },
     "metadata": {},
     "output_type": "display_data"
    }
   ],
   "source": [
    "import pandas as pd\n",
    "import numpy as np\n",
    "import seaborn as sns\n",
    "import matplotlib.pyplot as plt\n",
    "import plotly.graph_objs as go\n",
    "from plotly.offline import download_plotlyjs, init_notebook_mode, plot, iplot\n",
    "import os\n",
    "\n",
    "init_notebook_mode(connected=True)"
   ]
  },
  {
   "cell_type": "markdown",
   "metadata": {},
   "source": [
    "## Explore X Training Data"
   ]
  },
  {
   "cell_type": "code",
   "execution_count": 2,
   "metadata": {},
   "outputs": [],
   "source": [
    "train = pd.read_csv('../data/raw/X_train.csv')"
   ]
  },
  {
   "cell_type": "code",
   "execution_count": 3,
   "metadata": {},
   "outputs": [
    {
     "data": {
      "text/html": [
       "<div>\n",
       "<style scoped>\n",
       "    .dataframe tbody tr th:only-of-type {\n",
       "        vertical-align: middle;\n",
       "    }\n",
       "\n",
       "    .dataframe tbody tr th {\n",
       "        vertical-align: top;\n",
       "    }\n",
       "\n",
       "    .dataframe thead th {\n",
       "        text-align: right;\n",
       "    }\n",
       "</style>\n",
       "<table border=\"1\" class=\"dataframe\">\n",
       "  <thead>\n",
       "    <tr style=\"text-align: right;\">\n",
       "      <th></th>\n",
       "      <th>row_id</th>\n",
       "      <th>series_id</th>\n",
       "      <th>measurement_number</th>\n",
       "      <th>orientation_X</th>\n",
       "      <th>orientation_Y</th>\n",
       "      <th>orientation_Z</th>\n",
       "      <th>orientation_W</th>\n",
       "      <th>angular_velocity_X</th>\n",
       "      <th>angular_velocity_Y</th>\n",
       "      <th>angular_velocity_Z</th>\n",
       "      <th>linear_acceleration_X</th>\n",
       "      <th>linear_acceleration_Y</th>\n",
       "      <th>linear_acceleration_Z</th>\n",
       "    </tr>\n",
       "  </thead>\n",
       "  <tbody>\n",
       "    <tr>\n",
       "      <th>0</th>\n",
       "      <td>0_0</td>\n",
       "      <td>0</td>\n",
       "      <td>0</td>\n",
       "      <td>-0.75853</td>\n",
       "      <td>-0.63435</td>\n",
       "      <td>-0.10488</td>\n",
       "      <td>-0.10597</td>\n",
       "      <td>0.107650</td>\n",
       "      <td>0.017561</td>\n",
       "      <td>0.000767</td>\n",
       "      <td>-0.74857</td>\n",
       "      <td>2.1030</td>\n",
       "      <td>-9.7532</td>\n",
       "    </tr>\n",
       "    <tr>\n",
       "      <th>1</th>\n",
       "      <td>0_1</td>\n",
       "      <td>0</td>\n",
       "      <td>1</td>\n",
       "      <td>-0.75853</td>\n",
       "      <td>-0.63434</td>\n",
       "      <td>-0.10490</td>\n",
       "      <td>-0.10600</td>\n",
       "      <td>0.067851</td>\n",
       "      <td>0.029939</td>\n",
       "      <td>0.003385</td>\n",
       "      <td>0.33995</td>\n",
       "      <td>1.5064</td>\n",
       "      <td>-9.4128</td>\n",
       "    </tr>\n",
       "    <tr>\n",
       "      <th>2</th>\n",
       "      <td>0_2</td>\n",
       "      <td>0</td>\n",
       "      <td>2</td>\n",
       "      <td>-0.75853</td>\n",
       "      <td>-0.63435</td>\n",
       "      <td>-0.10492</td>\n",
       "      <td>-0.10597</td>\n",
       "      <td>0.007275</td>\n",
       "      <td>0.028934</td>\n",
       "      <td>-0.005978</td>\n",
       "      <td>-0.26429</td>\n",
       "      <td>1.5922</td>\n",
       "      <td>-8.7267</td>\n",
       "    </tr>\n",
       "    <tr>\n",
       "      <th>3</th>\n",
       "      <td>0_3</td>\n",
       "      <td>0</td>\n",
       "      <td>3</td>\n",
       "      <td>-0.75852</td>\n",
       "      <td>-0.63436</td>\n",
       "      <td>-0.10495</td>\n",
       "      <td>-0.10597</td>\n",
       "      <td>-0.013053</td>\n",
       "      <td>0.019448</td>\n",
       "      <td>-0.008974</td>\n",
       "      <td>0.42684</td>\n",
       "      <td>1.0993</td>\n",
       "      <td>-10.0960</td>\n",
       "    </tr>\n",
       "    <tr>\n",
       "      <th>4</th>\n",
       "      <td>0_4</td>\n",
       "      <td>0</td>\n",
       "      <td>4</td>\n",
       "      <td>-0.75852</td>\n",
       "      <td>-0.63435</td>\n",
       "      <td>-0.10495</td>\n",
       "      <td>-0.10596</td>\n",
       "      <td>0.005135</td>\n",
       "      <td>0.007652</td>\n",
       "      <td>0.005245</td>\n",
       "      <td>-0.50969</td>\n",
       "      <td>1.4689</td>\n",
       "      <td>-10.4410</td>\n",
       "    </tr>\n",
       "  </tbody>\n",
       "</table>\n",
       "</div>"
      ],
      "text/plain": [
       "  row_id  series_id  measurement_number  orientation_X  orientation_Y  \\\n",
       "0    0_0          0                   0       -0.75853       -0.63435   \n",
       "1    0_1          0                   1       -0.75853       -0.63434   \n",
       "2    0_2          0                   2       -0.75853       -0.63435   \n",
       "3    0_3          0                   3       -0.75852       -0.63436   \n",
       "4    0_4          0                   4       -0.75852       -0.63435   \n",
       "\n",
       "   orientation_Z  orientation_W  angular_velocity_X  angular_velocity_Y  \\\n",
       "0       -0.10488       -0.10597            0.107650            0.017561   \n",
       "1       -0.10490       -0.10600            0.067851            0.029939   \n",
       "2       -0.10492       -0.10597            0.007275            0.028934   \n",
       "3       -0.10495       -0.10597           -0.013053            0.019448   \n",
       "4       -0.10495       -0.10596            0.005135            0.007652   \n",
       "\n",
       "   angular_velocity_Z  linear_acceleration_X  linear_acceleration_Y  \\\n",
       "0            0.000767               -0.74857                 2.1030   \n",
       "1            0.003385                0.33995                 1.5064   \n",
       "2           -0.005978               -0.26429                 1.5922   \n",
       "3           -0.008974                0.42684                 1.0993   \n",
       "4            0.005245               -0.50969                 1.4689   \n",
       "\n",
       "   linear_acceleration_Z  \n",
       "0                -9.7532  \n",
       "1                -9.4128  \n",
       "2                -8.7267  \n",
       "3               -10.0960  \n",
       "4               -10.4410  "
      ]
     },
     "execution_count": 3,
     "metadata": {},
     "output_type": "execute_result"
    }
   ],
   "source": [
    "train.head()"
   ]
  },
  {
   "cell_type": "code",
   "execution_count": 4,
   "metadata": {},
   "outputs": [
    {
     "data": {
      "text/plain": [
       "(487680, 13)"
      ]
     },
     "execution_count": 4,
     "metadata": {},
     "output_type": "execute_result"
    }
   ],
   "source": [
    "train.shape"
   ]
  },
  {
   "cell_type": "code",
   "execution_count": 5,
   "metadata": {},
   "outputs": [
    {
     "data": {
      "text/html": [
       "<div>\n",
       "<style scoped>\n",
       "    .dataframe tbody tr th:only-of-type {\n",
       "        vertical-align: middle;\n",
       "    }\n",
       "\n",
       "    .dataframe tbody tr th {\n",
       "        vertical-align: top;\n",
       "    }\n",
       "\n",
       "    .dataframe thead th {\n",
       "        text-align: right;\n",
       "    }\n",
       "</style>\n",
       "<table border=\"1\" class=\"dataframe\">\n",
       "  <thead>\n",
       "    <tr style=\"text-align: right;\">\n",
       "      <th></th>\n",
       "      <th>series_id</th>\n",
       "      <th>measurement_number</th>\n",
       "      <th>orientation_X</th>\n",
       "      <th>orientation_Y</th>\n",
       "      <th>orientation_Z</th>\n",
       "      <th>orientation_W</th>\n",
       "      <th>angular_velocity_X</th>\n",
       "      <th>angular_velocity_Y</th>\n",
       "      <th>angular_velocity_Z</th>\n",
       "      <th>linear_acceleration_X</th>\n",
       "      <th>linear_acceleration_Y</th>\n",
       "      <th>linear_acceleration_Z</th>\n",
       "    </tr>\n",
       "  </thead>\n",
       "  <tbody>\n",
       "    <tr>\n",
       "      <th>count</th>\n",
       "      <td>487680.000000</td>\n",
       "      <td>487680.000000</td>\n",
       "      <td>487680.000000</td>\n",
       "      <td>487680.000000</td>\n",
       "      <td>487680.000000</td>\n",
       "      <td>487680.000000</td>\n",
       "      <td>487680.000000</td>\n",
       "      <td>487680.000000</td>\n",
       "      <td>487680.000000</td>\n",
       "      <td>487680.000000</td>\n",
       "      <td>487680.000000</td>\n",
       "      <td>487680.000000</td>\n",
       "    </tr>\n",
       "    <tr>\n",
       "      <th>mean</th>\n",
       "      <td>1904.500000</td>\n",
       "      <td>63.500000</td>\n",
       "      <td>-0.018050</td>\n",
       "      <td>0.075062</td>\n",
       "      <td>0.012458</td>\n",
       "      <td>-0.003804</td>\n",
       "      <td>0.000178</td>\n",
       "      <td>0.008338</td>\n",
       "      <td>-0.019184</td>\n",
       "      <td>0.129281</td>\n",
       "      <td>2.886468</td>\n",
       "      <td>-9.364886</td>\n",
       "    </tr>\n",
       "    <tr>\n",
       "      <th>std</th>\n",
       "      <td>1099.853353</td>\n",
       "      <td>36.949327</td>\n",
       "      <td>0.685696</td>\n",
       "      <td>0.708226</td>\n",
       "      <td>0.105972</td>\n",
       "      <td>0.104299</td>\n",
       "      <td>0.117764</td>\n",
       "      <td>0.088677</td>\n",
       "      <td>0.229153</td>\n",
       "      <td>1.870600</td>\n",
       "      <td>2.140067</td>\n",
       "      <td>2.845341</td>\n",
       "    </tr>\n",
       "    <tr>\n",
       "      <th>min</th>\n",
       "      <td>0.000000</td>\n",
       "      <td>0.000000</td>\n",
       "      <td>-0.989100</td>\n",
       "      <td>-0.989650</td>\n",
       "      <td>-0.162830</td>\n",
       "      <td>-0.156620</td>\n",
       "      <td>-2.371000</td>\n",
       "      <td>-0.927860</td>\n",
       "      <td>-1.268800</td>\n",
       "      <td>-36.067000</td>\n",
       "      <td>-121.490000</td>\n",
       "      <td>-75.386000</td>\n",
       "    </tr>\n",
       "    <tr>\n",
       "      <th>25%</th>\n",
       "      <td>952.000000</td>\n",
       "      <td>31.750000</td>\n",
       "      <td>-0.705120</td>\n",
       "      <td>-0.688980</td>\n",
       "      <td>-0.089466</td>\n",
       "      <td>-0.106060</td>\n",
       "      <td>-0.040752</td>\n",
       "      <td>-0.033191</td>\n",
       "      <td>-0.090743</td>\n",
       "      <td>-0.530833</td>\n",
       "      <td>1.957900</td>\n",
       "      <td>-10.193000</td>\n",
       "    </tr>\n",
       "    <tr>\n",
       "      <th>50%</th>\n",
       "      <td>1904.500000</td>\n",
       "      <td>63.500000</td>\n",
       "      <td>-0.105960</td>\n",
       "      <td>0.237855</td>\n",
       "      <td>0.031949</td>\n",
       "      <td>-0.018704</td>\n",
       "      <td>0.000084</td>\n",
       "      <td>0.005412</td>\n",
       "      <td>-0.005335</td>\n",
       "      <td>0.124980</td>\n",
       "      <td>2.879600</td>\n",
       "      <td>-9.365300</td>\n",
       "    </tr>\n",
       "    <tr>\n",
       "      <th>75%</th>\n",
       "      <td>2857.000000</td>\n",
       "      <td>95.250000</td>\n",
       "      <td>0.651803</td>\n",
       "      <td>0.809550</td>\n",
       "      <td>0.122870</td>\n",
       "      <td>0.097215</td>\n",
       "      <td>0.040527</td>\n",
       "      <td>0.048068</td>\n",
       "      <td>0.064604</td>\n",
       "      <td>0.792263</td>\n",
       "      <td>3.798800</td>\n",
       "      <td>-8.522700</td>\n",
       "    </tr>\n",
       "    <tr>\n",
       "      <th>max</th>\n",
       "      <td>3809.000000</td>\n",
       "      <td>127.000000</td>\n",
       "      <td>0.989100</td>\n",
       "      <td>0.988980</td>\n",
       "      <td>0.155710</td>\n",
       "      <td>0.154770</td>\n",
       "      <td>2.282200</td>\n",
       "      <td>1.079100</td>\n",
       "      <td>1.387300</td>\n",
       "      <td>36.797000</td>\n",
       "      <td>73.008000</td>\n",
       "      <td>65.839000</td>\n",
       "    </tr>\n",
       "  </tbody>\n",
       "</table>\n",
       "</div>"
      ],
      "text/plain": [
       "           series_id  measurement_number  orientation_X  orientation_Y  \\\n",
       "count  487680.000000       487680.000000  487680.000000  487680.000000   \n",
       "mean     1904.500000           63.500000      -0.018050       0.075062   \n",
       "std      1099.853353           36.949327       0.685696       0.708226   \n",
       "min         0.000000            0.000000      -0.989100      -0.989650   \n",
       "25%       952.000000           31.750000      -0.705120      -0.688980   \n",
       "50%      1904.500000           63.500000      -0.105960       0.237855   \n",
       "75%      2857.000000           95.250000       0.651803       0.809550   \n",
       "max      3809.000000          127.000000       0.989100       0.988980   \n",
       "\n",
       "       orientation_Z  orientation_W  angular_velocity_X  angular_velocity_Y  \\\n",
       "count  487680.000000  487680.000000       487680.000000       487680.000000   \n",
       "mean        0.012458      -0.003804            0.000178            0.008338   \n",
       "std         0.105972       0.104299            0.117764            0.088677   \n",
       "min        -0.162830      -0.156620           -2.371000           -0.927860   \n",
       "25%        -0.089466      -0.106060           -0.040752           -0.033191   \n",
       "50%         0.031949      -0.018704            0.000084            0.005412   \n",
       "75%         0.122870       0.097215            0.040527            0.048068   \n",
       "max         0.155710       0.154770            2.282200            1.079100   \n",
       "\n",
       "       angular_velocity_Z  linear_acceleration_X  linear_acceleration_Y  \\\n",
       "count       487680.000000          487680.000000          487680.000000   \n",
       "mean            -0.019184               0.129281               2.886468   \n",
       "std              0.229153               1.870600               2.140067   \n",
       "min             -1.268800             -36.067000            -121.490000   \n",
       "25%             -0.090743              -0.530833               1.957900   \n",
       "50%             -0.005335               0.124980               2.879600   \n",
       "75%              0.064604               0.792263               3.798800   \n",
       "max              1.387300              36.797000              73.008000   \n",
       "\n",
       "       linear_acceleration_Z  \n",
       "count          487680.000000  \n",
       "mean               -9.364886  \n",
       "std                 2.845341  \n",
       "min               -75.386000  \n",
       "25%               -10.193000  \n",
       "50%                -9.365300  \n",
       "75%                -8.522700  \n",
       "max                65.839000  "
      ]
     },
     "execution_count": 5,
     "metadata": {},
     "output_type": "execute_result"
    }
   ],
   "source": [
    "train.describe()"
   ]
  },
  {
   "cell_type": "code",
   "execution_count": 6,
   "metadata": {},
   "outputs": [
    {
     "name": "stdout",
     "output_type": "stream",
     "text": [
      "<class 'pandas.core.frame.DataFrame'>\n",
      "RangeIndex: 487680 entries, 0 to 487679\n",
      "Data columns (total 13 columns):\n",
      "row_id                   487680 non-null object\n",
      "series_id                487680 non-null int64\n",
      "measurement_number       487680 non-null int64\n",
      "orientation_X            487680 non-null float64\n",
      "orientation_Y            487680 non-null float64\n",
      "orientation_Z            487680 non-null float64\n",
      "orientation_W            487680 non-null float64\n",
      "angular_velocity_X       487680 non-null float64\n",
      "angular_velocity_Y       487680 non-null float64\n",
      "angular_velocity_Z       487680 non-null float64\n",
      "linear_acceleration_X    487680 non-null float64\n",
      "linear_acceleration_Y    487680 non-null float64\n",
      "linear_acceleration_Z    487680 non-null float64\n",
      "dtypes: float64(10), int64(2), object(1)\n",
      "memory usage: 48.4+ MB\n"
     ]
    }
   ],
   "source": [
    "train.info(null_counts=True, verbose=True)"
   ]
  },
  {
   "cell_type": "code",
   "execution_count": 7,
   "metadata": {},
   "outputs": [
    {
     "data": {
      "text/plain": [
       "row_id                   0\n",
       "series_id                0\n",
       "measurement_number       0\n",
       "orientation_X            0\n",
       "orientation_Y            0\n",
       "orientation_Z            0\n",
       "orientation_W            0\n",
       "angular_velocity_X       0\n",
       "angular_velocity_Y       0\n",
       "angular_velocity_Z       0\n",
       "linear_acceleration_X    0\n",
       "linear_acceleration_Y    0\n",
       "linear_acceleration_Z    0\n",
       "dtype: int64"
      ]
     },
     "execution_count": 7,
     "metadata": {},
     "output_type": "execute_result"
    }
   ],
   "source": [
    "train.isnull().sum()"
   ]
  },
  {
   "cell_type": "markdown",
   "metadata": {},
   "source": [
    "There are no missing data from the X training set."
   ]
  },
  {
   "cell_type": "markdown",
   "metadata": {},
   "source": [
    "### Correlation Matrix for X Training Data\n",
    "\n",
    "Next, look at the correlation between features, after removing ID features."
   ]
  },
  {
   "cell_type": "code",
   "execution_count": 14,
   "metadata": {},
   "outputs": [
    {
     "data": {
      "image/png": "[encoded data removed]",
      "text/plain": [
       "<Figure size 720x720 with 2 Axes>"
      ]
     },
     "metadata": {
      "needs_background": "light"
     },
     "output_type": "display_data"
    }
   ],
   "source": [
    "#Create Correlation df\n",
    "corr = train.iloc[:, 2:].corr()\n",
    "#Plot figsize\n",
    "fig, ax = plt.subplots(figsize=(10, 10))\n",
    "#Generate Color Map\n",
    "colormap = sns.diverging_palette(220, 10, as_cmap=True)\n",
    "#Generate Heat Map, allow annotations and place floats in map\n",
    "sns.heatmap(corr, cmap=colormap, annot=True, fmt=\".2f\")\n",
    "#Apply xticks\n",
    "plt.xticks(range(len(corr.columns)), corr.columns);\n",
    "#Apply yticks\n",
    "plt.yticks(range(len(corr.columns)), corr.columns)\n",
    "#show plot\n",
    "plt.show()"
   ]
  },
  {
   "cell_type": "markdown",
   "metadata": {},
   "source": [
    "There is strong correlation between Y and Z orientations, X and W orientations, and Y and Z angular velocities."
   ]
  },
  {
   "cell_type": "markdown",
   "metadata": {},
   "source": [
    "## Explore Y Target Training Data"
   ]
  },
  {
   "cell_type": "code",
   "execution_count": 9,
   "metadata": {},
   "outputs": [],
   "source": [
    "target = pd.read_csv('../data/raw/y_train.csv')"
   ]
  },
  {
   "cell_type": "code",
   "execution_count": 10,
   "metadata": {},
   "outputs": [
    {
     "data": {
      "text/html": [
       "<div>\n",
       "<style scoped>\n",
       "    .dataframe tbody tr th:only-of-type {\n",
       "        vertical-align: middle;\n",
       "    }\n",
       "\n",
       "    .dataframe tbody tr th {\n",
       "        vertical-align: top;\n",
       "    }\n",
       "\n",
       "    .dataframe thead th {\n",
       "        text-align: right;\n",
       "    }\n",
       "</style>\n",
       "<table border=\"1\" class=\"dataframe\">\n",
       "  <thead>\n",
       "    <tr style=\"text-align: right;\">\n",
       "      <th></th>\n",
       "      <th>series_id</th>\n",
       "      <th>group_id</th>\n",
       "      <th>surface</th>\n",
       "    </tr>\n",
       "  </thead>\n",
       "  <tbody>\n",
       "    <tr>\n",
       "      <th>0</th>\n",
       "      <td>0</td>\n",
       "      <td>13</td>\n",
       "      <td>fine_concrete</td>\n",
       "    </tr>\n",
       "    <tr>\n",
       "      <th>1</th>\n",
       "      <td>1</td>\n",
       "      <td>31</td>\n",
       "      <td>concrete</td>\n",
       "    </tr>\n",
       "    <tr>\n",
       "      <th>2</th>\n",
       "      <td>2</td>\n",
       "      <td>20</td>\n",
       "      <td>concrete</td>\n",
       "    </tr>\n",
       "    <tr>\n",
       "      <th>3</th>\n",
       "      <td>3</td>\n",
       "      <td>31</td>\n",
       "      <td>concrete</td>\n",
       "    </tr>\n",
       "    <tr>\n",
       "      <th>4</th>\n",
       "      <td>4</td>\n",
       "      <td>22</td>\n",
       "      <td>soft_tiles</td>\n",
       "    </tr>\n",
       "  </tbody>\n",
       "</table>\n",
       "</div>"
      ],
      "text/plain": [
       "   series_id  group_id        surface\n",
       "0          0        13  fine_concrete\n",
       "1          1        31       concrete\n",
       "2          2        20       concrete\n",
       "3          3        31       concrete\n",
       "4          4        22     soft_tiles"
      ]
     },
     "execution_count": 10,
     "metadata": {},
     "output_type": "execute_result"
    }
   ],
   "source": [
    "target.head()"
   ]
  },
  {
   "cell_type": "code",
   "execution_count": 11,
   "metadata": {},
   "outputs": [
    {
     "data": {
      "text/plain": [
       "(3810, 3)"
      ]
     },
     "execution_count": 11,
     "metadata": {},
     "output_type": "execute_result"
    }
   ],
   "source": [
    "target.shape"
   ]
  },
  {
   "cell_type": "code",
   "execution_count": 12,
   "metadata": {},
   "outputs": [
    {
     "name": "stdout",
     "output_type": "stream",
     "text": [
      "<class 'pandas.core.frame.DataFrame'>\n",
      "RangeIndex: 3810 entries, 0 to 3809\n",
      "Data columns (total 3 columns):\n",
      "series_id    3810 non-null int64\n",
      "group_id     3810 non-null int64\n",
      "surface      3810 non-null object\n",
      "dtypes: int64(2), object(1)\n",
      "memory usage: 89.4+ KB\n"
     ]
    }
   ],
   "source": [
    "target.info(null_counts=True, verbose=True)"
   ]
  },
  {
   "cell_type": "code",
   "execution_count": 13,
   "metadata": {},
   "outputs": [
    {
     "data": {
      "text/plain": [
       "series_id    0\n",
       "group_id     0\n",
       "surface      0\n",
       "dtype: int64"
      ]
     },
     "execution_count": 13,
     "metadata": {},
     "output_type": "execute_result"
    }
   ],
   "source": [
    "target.isnull().sum()"
   ]
  },
  {
   "cell_type": "markdown",
   "metadata": {},
   "source": [
    "No missing data from the Y target training set."
   ]
  },
  {
   "cell_type": "code",
   "execution_count": 14,
   "metadata": {},
   "outputs": [
    {
     "data": {
      "text/plain": [
       "series_id    3810\n",
       "group_id       73\n",
       "surface         9\n",
       "dtype: int64"
      ]
     },
     "execution_count": 14,
     "metadata": {},
     "output_type": "execute_result"
    }
   ],
   "source": [
    "target.nunique()"
   ]
  },
  {
   "cell_type": "markdown",
   "metadata": {},
   "source": [
    "### Counts for Surface Types"
   ]
  },
  {
   "cell_type": "code",
   "execution_count": 15,
   "metadata": {},
   "outputs": [
    {
     "data": {
      "text/html": [
       "<div>\n",
       "<style scoped>\n",
       "    .dataframe tbody tr th:only-of-type {\n",
       "        vertical-align: middle;\n",
       "    }\n",
       "\n",
       "    .dataframe tbody tr th {\n",
       "        vertical-align: top;\n",
       "    }\n",
       "\n",
       "    .dataframe thead th {\n",
       "        text-align: right;\n",
       "    }\n",
       "</style>\n",
       "<table border=\"1\" class=\"dataframe\">\n",
       "  <thead>\n",
       "    <tr style=\"text-align: right;\">\n",
       "      <th></th>\n",
       "      <th>series_id</th>\n",
       "      <th>group_id</th>\n",
       "    </tr>\n",
       "    <tr>\n",
       "      <th>surface</th>\n",
       "      <th></th>\n",
       "      <th></th>\n",
       "    </tr>\n",
       "  </thead>\n",
       "  <tbody>\n",
       "    <tr>\n",
       "      <th>carpet</th>\n",
       "      <td>189</td>\n",
       "      <td>4</td>\n",
       "    </tr>\n",
       "    <tr>\n",
       "      <th>concrete</th>\n",
       "      <td>779</td>\n",
       "      <td>15</td>\n",
       "    </tr>\n",
       "    <tr>\n",
       "      <th>fine_concrete</th>\n",
       "      <td>363</td>\n",
       "      <td>7</td>\n",
       "    </tr>\n",
       "    <tr>\n",
       "      <th>hard_tiles</th>\n",
       "      <td>21</td>\n",
       "      <td>1</td>\n",
       "    </tr>\n",
       "    <tr>\n",
       "      <th>hard_tiles_large_space</th>\n",
       "      <td>308</td>\n",
       "      <td>5</td>\n",
       "    </tr>\n",
       "    <tr>\n",
       "      <th>soft_pvc</th>\n",
       "      <td>732</td>\n",
       "      <td>14</td>\n",
       "    </tr>\n",
       "    <tr>\n",
       "      <th>soft_tiles</th>\n",
       "      <td>297</td>\n",
       "      <td>6</td>\n",
       "    </tr>\n",
       "    <tr>\n",
       "      <th>tiled</th>\n",
       "      <td>514</td>\n",
       "      <td>9</td>\n",
       "    </tr>\n",
       "    <tr>\n",
       "      <th>wood</th>\n",
       "      <td>607</td>\n",
       "      <td>12</td>\n",
       "    </tr>\n",
       "  </tbody>\n",
       "</table>\n",
       "</div>"
      ],
      "text/plain": [
       "                        series_id  group_id\n",
       "surface                                    \n",
       "carpet                        189         4\n",
       "concrete                      779        15\n",
       "fine_concrete                 363         7\n",
       "hard_tiles                     21         1\n",
       "hard_tiles_large_space        308         5\n",
       "soft_pvc                      732        14\n",
       "soft_tiles                    297         6\n",
       "tiled                         514         9\n",
       "wood                          607        12"
      ]
     },
     "execution_count": 15,
     "metadata": {},
     "output_type": "execute_result"
    }
   ],
   "source": [
    "surface_counts = target.groupby('surface').nunique()\n",
    "surface_counts.iloc[:, 0:2]"
   ]
  },
  {
   "cell_type": "markdown",
   "metadata": {},
   "source": [
    "There are some imbalance classes in the training dataset, particularly for \"hard tiles,\" which only has one group, which itself only has 21 series."
   ]
  },
  {
   "cell_type": "code",
   "execution_count": 16,
   "metadata": {},
   "outputs": [
    {
     "data": {
      "text/plain": [
       "<matplotlib.axes._subplots.AxesSubplot at 0x27951a266a0>"
      ]
     },
     "execution_count": 16,
     "metadata": {},
     "output_type": "execute_result"
    },
    {
     "data": {
      "image/png": "[encoded data removed]",
      "text/plain": [
       "<Figure size 432x288 with 1 Axes>"
      ]
     },
     "metadata": {
      "needs_background": "light"
     },
     "output_type": "display_data"
    }
   ],
   "source": [
    "surface_counts.group_id.sort_values().plot(kind='barh')"
   ]
  },
  {
   "cell_type": "code",
   "execution_count": 17,
   "metadata": {},
   "outputs": [
    {
     "data": {
      "text/plain": [
       "<matplotlib.axes._subplots.AxesSubplot at 0x27951ad7080>"
      ]
     },
     "execution_count": 17,
     "metadata": {},
     "output_type": "execute_result"
    },
    {
     "data": {
      "image/png": "[encoded data removed]",
      "text/plain": [
       "<Figure size 432x288 with 1 Axes>"
      ]
     },
     "metadata": {
      "needs_background": "light"
     },
     "output_type": "display_data"
    }
   ],
   "source": [
    "surface_counts.series_id.sort_values().plot(kind='barh')"
   ]
  },
  {
   "cell_type": "markdown",
   "metadata": {},
   "source": [
    "### Proportion of Each Surface Type in Training Set"
   ]
  },
  {
   "cell_type": "code",
   "execution_count": 18,
   "metadata": {},
   "outputs": [
    {
     "data": {
      "text/plain": [
       "surface\n",
       "concrete                  0.205479\n",
       "soft_pvc                  0.191781\n",
       "wood                      0.164384\n",
       "tiled                     0.123288\n",
       "fine_concrete             0.095890\n",
       "soft_tiles                0.082192\n",
       "hard_tiles_large_space    0.068493\n",
       "carpet                    0.054795\n",
       "hard_tiles                0.013699\n",
       "Name: group_id, dtype: float64"
      ]
     },
     "execution_count": 18,
     "metadata": {},
     "output_type": "execute_result"
    }
   ],
   "source": [
    "surface_counts.apply(lambda x: x/x.sum()).group_id.sort_values(ascending=False)"
   ]
  },
  {
   "cell_type": "markdown",
   "metadata": {},
   "source": [
    "The largest class (concrete) makes up 20.5% of all surface types groups, while the smallest (hard tiles) only accounts for 1.4% of all groups. There is a 1:15 ratio between the smallest and largest unique group count by surface type.\n",
    "\n",
    "Cross-validation strategy should account for imbalanced classes. Given the fairly large size of the X training data set, undersampling the majority classes to balance out the minority classes might work. Should also try oversampling with SMOTE or bootstrapping the data."
   ]
  }
 ],
 "metadata": {
  "kernelspec": {
   "display_name": "Python 3",
   "language": "python",
   "name": "python3"
  },
  "language_info": {
   "codemirror_mode": {
    "name": "ipython",
    "version": 3
   },
   "file_extension": ".py",
   "mimetype": "text/x-python",
   "name": "python",
   "nbconvert_exporter": "python",
   "pygments_lexer": "ipython3",
   "version": "3.6.8"
  }
 },
 "nbformat": 4,
 "nbformat_minor": 2
}
